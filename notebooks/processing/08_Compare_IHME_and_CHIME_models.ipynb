{
 "cells": [
  {
   "cell_type": "code",
   "execution_count": null,
   "metadata": {},
   "outputs": [],
   "source": [
    "%matplotlib inline\n",
    "%load_ext autoreload\n",
    "%autoreload 2"
   ]
  },
  {
   "cell_type": "code",
   "execution_count": null,
   "metadata": {},
   "outputs": [],
   "source": [
    "import pandas as pd\n",
    "from dateutil import parser\n",
    "from covidcaremap.data import (get_ihme_forecast, read_us_counties_gdf, read_us_states_gdf, \n",
    "                               external_data_path, read_state_case_info)\n",
    "import numpy as np\n",
    "import requests\n",
    "import json\n",
    "import plotly.express as px\n",
    "\n",
    "from covidcaremap.chime import get_regional_predictions"
   ]
  },
  {
   "cell_type": "code",
   "execution_count": null,
   "metadata": {},
   "outputs": [],
   "source": [
    "ihme = get_ihme_forecast()"
   ]
  },
  {
   "cell_type": "code",
   "execution_count": null,
   "metadata": {},
   "outputs": [],
   "source": [
    "states = read_us_states_gdf()\n",
    "counties_geom = read_us_counties_gdf()\n",
    "cases = read_state_case_info()\n",
    "state_cases = pd.merge(states, cases, 'inner', left_on='State', right_on='state')\n",
    "state_cases['recovered'].fillna(0, inplace=True)"
   ]
  },
  {
   "cell_type": "code",
   "execution_count": null,
   "metadata": {},
   "outputs": [],
   "source": [
    "# testing whether passing an arbitrary function to `calculate_infected` works\n",
    "def example_calc_infected(p):\n",
    "    return 20"
   ]
  },
  {
   "cell_type": "code",
   "execution_count": null,
   "metadata": {},
   "outputs": [],
   "source": [
    "chime = get_regional_predictions(state_cases, \n",
    "                                 region_id_column='State', \n",
    "                                 population_column='Population', \n",
    "                                 cases_column='positive',\n",
    "                                 tested_column='tested',\n",
    "                                 recovered_column='recovered',\n",
    "                                 calculate_infected=example_calc_infected)"
   ]
  },
  {
   "cell_type": "code",
   "execution_count": null,
   "metadata": {},
   "outputs": [],
   "source": []
  }
 ],
 "metadata": {
  "kernelspec": {
   "display_name": "Python 3",
   "language": "python",
   "name": "python3"
  },
  "language_info": {
   "codemirror_mode": {
    "name": "ipython",
    "version": 3
   },
   "file_extension": ".py",
   "mimetype": "text/x-python",
   "name": "python",
   "nbconvert_exporter": "python",
   "pygments_lexer": "ipython3",
   "version": "3.8.2"
  }
 },
 "nbformat": 4,
 "nbformat_minor": 4
}
