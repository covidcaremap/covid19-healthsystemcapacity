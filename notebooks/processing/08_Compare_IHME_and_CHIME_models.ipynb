{
 "cells": [
  {
   "cell_type": "code",
   "execution_count": null,
   "metadata": {},
   "outputs": [],
   "source": [
    "%matplotlib inline\n",
    "%load_ext autoreload\n",
    "%autoreload 2"
   ]
  },
  {
   "cell_type": "code",
   "execution_count": null,
   "metadata": {},
   "outputs": [],
   "source": [
    "import pandas as pd\n",
    "from dateutil import parser\n",
    "from covidcaremap.data import (get_ihme_forecast, read_us_counties_gdf, read_us_states_gdf, \n",
    "                               external_data_path, read_state_case_info)\n",
    "import numpy as np\n",
    "import requests\n",
    "import json\n",
    "import plotly.express as px\n",
    "import us\n",
    "from functools import reduce\n",
    "import plotly.graph_objects as go\n",
    "from plotly.subplots import make_subplots\n",
    "\n",
    "from covidcaremap.chime import get_regional_predictions"
   ]
  },
  {
   "cell_type": "code",
   "execution_count": null,
   "metadata": {},
   "outputs": [],
   "source": [
    "def date(str):\n",
    "    return parser.parse(str).date()"
   ]
  },
  {
   "cell_type": "code",
   "execution_count": null,
   "metadata": {},
   "outputs": [],
   "source": [
    "s_str = '20200330'\n",
    "e_str = '20200412'\n",
    "start_date = parser.parse(s_str)\n",
    "end_date = parser.parse(e_str)"
   ]
  },
  {
   "cell_type": "markdown",
   "metadata": {},
   "source": [
    "actual"
   ]
  },
  {
   "cell_type": "code",
   "execution_count": null,
   "metadata": {},
   "outputs": [],
   "source": [
    "gt = read_state_case_info(all_days=True)\n",
    "gt_t = gt[(gt['date'] >= start_date) & (gt['date'] <= end_date)]\n",
    "gt_t = gt_t[['date', 'state', 'hospitalizedIncrease']].sort_values(['state', 'date'])\n",
    "gt_t.columns = ['date', 'state', 'actual']"
   ]
  },
  {
   "cell_type": "markdown",
   "metadata": {},
   "source": [
    "ihme"
   ]
  },
  {
   "cell_type": "code",
   "execution_count": null,
   "metadata": {},
   "outputs": [],
   "source": [
    "ihme = get_ihme_forecast()\n",
    "ihme = ihme[ihme['location_name'].isin([x.name  for x in us.states.STATES])].copy()\n",
    "ihme['state'] = ihme['location_name'].apply(lambda x: us.states.lookup(x).abbr)\n",
    "ihme_t = ihme[(ihme['date'] >= start_date) & (ihme['date'] <= end_date)]\n",
    "ihme_t = ihme_t[['state', 'date', 'admis_mean']].sort_values(['state', 'date'])\n",
    "ihme_t.columns = ['state', 'date', 'ihme']"
   ]
  },
  {
   "cell_type": "markdown",
   "metadata": {},
   "source": [
    "chime"
   ]
  },
  {
   "cell_type": "code",
   "execution_count": null,
   "metadata": {},
   "outputs": [],
   "source": [
    "# testing whether passing an arbitrary function to `calculate_infected` works\n",
    "def example_calc_infected(p):\n",
    "    return 20"
   ]
  },
  {
   "cell_type": "code",
   "execution_count": null,
   "metadata": {},
   "outputs": [],
   "source": [
    "states = read_us_states_gdf()\n",
    "cases = read_state_case_info(s_str)\n",
    "state_cases = pd.merge(states, cases, 'inner', left_on='State', right_on='state')\n",
    "chime = get_regional_predictions(state_cases, \n",
    "                                 region_id_column='State', \n",
    "                                 population_column='Population', \n",
    "                                 cases_column='positive',\n",
    "                                 tested_column='tested',\n",
    "                                 recovered_column='recovered',\n",
    "                                 current_date = start_date.date())"
   ]
  },
  {
   "cell_type": "code",
   "execution_count": null,
   "metadata": {},
   "outputs": [],
   "source": [
    "chime_t = chime[(chime['date_total'] >= start_date) & (chime['date_total'] <= end_date)]\n",
    "chime_t = chime_t[['date_total', 'State', 'admits_hospitalized']].sort_values(['State', 'date_total'])\n",
    "chime_t.columns = ['date', 'state', 'chime']"
   ]
  },
  {
   "cell_type": "markdown",
   "metadata": {},
   "source": [
    "merge"
   ]
  },
  {
   "cell_type": "code",
   "execution_count": null,
   "metadata": {},
   "outputs": [],
   "source": [
    "df = reduce(lambda x, y: pd.merge(x, y, how='inner', on=['state', 'date']), [gt_t, ihme_t, chime_t])\n",
    "nulls = [r['state'] for _, r in df.groupby('state').sum().reset_index().iterrows() if r['actual'] == 0]\n",
    "df = df[~df['state'].isin(nulls)].copy()"
   ]
  },
  {
   "cell_type": "code",
   "execution_count": null,
   "metadata": {},
   "outputs": [],
   "source": [
    "x = pd.melt(df, id_vars=['date', 'state'], value_vars=['actual', 'ihme', 'chime'], var_name='source', value_name='hospitalizations')"
   ]
  },
  {
   "cell_type": "code",
   "execution_count": null,
   "metadata": {},
   "outputs": [],
   "source": [
    "fig = px.line(x, x='date', y='hospitalizations', color='source',\n",
    "              facet_col='state', \n",
    "              facet_col_wrap=6)\n",
    "fig.update_yaxes(matches='x', title='')\n",
    "fig.update_xaxes(matches='y', title='')\n",
    "fig.for_each_annotation(lambda a: a.update(text=a.text.split(\"=\")[-1]))\n",
    "fig.layout.yaxis.update({'title': '# of new COVID-19 hospitalizations'})\n",
    "fig.update_layout(\n",
    "    autosize=False,\n",
    "    width=1700,\n",
    "    height=1000,\n",
    "    margin=dict(\n",
    "        l=50,\n",
    "        r=50,\n",
    "        b=100,\n",
    "        t=100,\n",
    "        pad=4\n",
    "    ),\n",
    "    title=go.layout.Title(\n",
    "        text=\"IHME and CHIME hospitalization models vs actual (3/30/2020 - 4/12/2020)\",\n",
    "        font=go.layout.title.Font(size=20),\n",
    "    )\n",
    ")"
   ]
  },
  {
   "cell_type": "code",
   "execution_count": null,
   "metadata": {},
   "outputs": [],
   "source": [
    "with open('CHIME_IHME_actual.html', 'w') as f:\n",
    "    f.write(fig.to_html())"
   ]
  },
  {
   "cell_type": "code",
   "execution_count": null,
   "metadata": {},
   "outputs": [],
   "source": [
    "row = 1\n",
    "col = 1\n",
    "fig = make_subplots(rows=8, cols=4, \n",
    "                    start_cell=\"top-left\", \n",
    "                    shared_xaxes=True, \n",
    "                    subplot_titles=df['state'].unique(),\n",
    "                    x_title='Date', \n",
    "                    y_title='New hospitalizations')\n",
    "for st in df['state'].unique():\n",
    "    t = df[df['state'] == st]\n",
    "    for color, source in [('blue', 'ihme'), ('green', 'chime'), ('purple', 'actual')]:\n",
    "        fig.add_trace(\n",
    "            go.Scatter(\n",
    "                x=t['date'], \n",
    "                y=t[source], \n",
    "                line={'color': color}, \n",
    "                showlegend=False,\n",
    "                mode='lines'),\n",
    "                row=row, col=col\n",
    "        )\n",
    "    if row == 8:\n",
    "        col += 1\n",
    "        row = 1\n",
    "    else:\n",
    "        row += 1"
   ]
  },
  {
   "cell_type": "code",
   "execution_count": null,
   "metadata": {},
   "outputs": [],
   "source": [
    "fig.update_layout(\n",
    "    autosize=False,\n",
    "    width=1700,\n",
    "    height=1000,\n",
    "    margin=dict(\n",
    "        l=50,\n",
    "        r=50,\n",
    "        b=100,\n",
    "        t=100,\n",
    "        pad=4\n",
    "    ),\n",
    "    title=go.layout.Title(\n",
    "        text=\"IHME and CHIME hospitalization models vs actual (3/30/2020 - 4/12/2020)\",\n",
    "        font=go.layout.title.Font(size=20))\n",
    ")"
   ]
  }
 ],
 "metadata": {
  "kernelspec": {
   "display_name": "Python 3",
   "language": "python",
   "name": "python3"
  },
  "language_info": {
   "codemirror_mode": {
    "name": "ipython",
    "version": 3
   },
   "file_extension": ".py",
   "mimetype": "text/x-python",
   "name": "python",
   "nbconvert_exporter": "python",
   "pygments_lexer": "ipython3",
   "version": "3.8.2"
  }
 },
 "nbformat": 4,
 "nbformat_minor": 4
}
